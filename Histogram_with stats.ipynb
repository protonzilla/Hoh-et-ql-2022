{
 "cells": [
  {
   "cell_type": "code",
   "execution_count": 1,
   "metadata": {},
   "outputs": [],
   "source": [
    "#%matplotlib notebook\n"
   ]
  },
  {
   "cell_type": "code",
   "execution_count": 1,
   "metadata": {},
   "outputs": [],
   "source": [
    "import matplotlib.pyplot as plt\n",
    "import matplotlib.cm as cm\n",
    "from matplotlib.patches import Patch,Rectangle,Arrow,FancyArrow\n",
    "import json\n",
    "import pandas as pd\n",
    "import numpy as np\n",
    "from scipy import stats"
   ]
  },
  {
   "cell_type": "code",
   "execution_count": 2,
   "metadata": {},
   "outputs": [],
   "source": [
    "# load data\n",
    "filename = 'Lipid_fatty_acids_geno_chr4_9_PS.csv'\n",
    "df = pd.read_csv(filename, index_col=\"Genotype\")\n",
    "\n",
    "# treat everything as numbers\n",
    "for col in df.columns:\n",
    "    df[col] = pd.to_numeric(df[col], errors=\"coerce\")"
   ]
  },
  {
   "cell_type": "code",
   "execution_count": 3,
   "metadata": {},
   "outputs": [
    {
     "data": {
      "text/plain": [
       "Index(['chr4', 'chr9', 'MGDG', 'DGDG', 'SQDG', 'PG', 'PIPE', 'PC', 'PG_16_0',\n",
       "       'PG_16_1', 'PG_18_0', 'PG_18_2', 'PG_18_3', 'MGDG_16_0', 'MGDG_18_2',\n",
       "       'MGDG_18_3', 'DGDG_16_0', 'DGDG_18_2', 'DGDG_18_3', 'PC_16_0',\n",
       "       'PC_18_1', 'PC_18_2', 'PC_18_3', 'SQDG_16_0', 'SQDG_18_0', 'SQDG_18_1',\n",
       "       'SQDG_18_2', 'SQDG_18_3', 'PEPI_16_0', 'PEPI_18_1', 'PEPI_18_2',\n",
       "       'PEPI_18_3', 'DGDG/MGDG', 'LT_DEPI_phi2_81', 'LT_DEPI_qIt_81',\n",
       "       'LT_DEPI_qL_81'],\n",
       "      dtype='object')"
      ]
     },
     "execution_count": 3,
     "metadata": {},
     "output_type": "execute_result"
    }
   ],
   "source": [
    "df.columns"
   ]
  },
  {
   "cell_type": "code",
   "execution_count": 4,
   "metadata": {},
   "outputs": [],
   "source": [
    "# settings for histograms with arrows\n",
    "\n",
    "all_arrow_colors = {\n",
    "    \"CB27\": \"red\",\n",
    "    \"24-125B-1\": \"blue\"\n",
    "}\n",
    "\n",
    "all_condition_prefixes = {\n",
    "    # label in legend: column name prefix\n",
    "    \"chilling\": \"cold\",\n",
    "    \"control\": \"control\"\n",
    "}\n",
    "\n",
    "all_hist_colors = {\n",
    "    \"chilling\": \"blue\",\n",
    "    \"control\": \"orange\"\n",
    "}\n",
    "\n",
    "all_arrow_linestyles = {\n",
    "    \"chilling\": \"--\",\n",
    "    \"control\": \"-\"\n",
    "}\n",
    "\n",
    "\n",
    "arrow_length = .1 # a fraction of the axis height\n",
    "\n",
    "# make a figure with a histogram, some arrows, and a special legend\n",
    "def march_2021_figure(para,n_bins,bin_range,xlabel=None):\n",
    "    \n",
    "    # make a figure with two \"subplots\" that can be repositioned\n",
    "    fig = plt.figure(figsize=(12,5))\n",
    "    ax = fig.add_axes([.1,.1,.4,.8]) \n",
    "    legend_ax = fig.add_axes([.55,.1,.4,.8])\n",
    "\n",
    "    # collect all the data that will be involved in this plot\n",
    "    # for each condition we have a pandas series where the index contains genotypes\n",
    "    hist_values_by_condition = {\n",
    "        condition:df[\"_\".join([prefix,para])] \n",
    "        for condition,prefix in all_condition_prefixes.items()\n",
    "    }\n",
    "    \n",
    "    # compare two groups\n",
    "    # show the p-value\n",
    "    group_a = hist_values_by_condition[\"control\"]\n",
    "    group_b = hist_values_by_condition[\"chilling\"]\n",
    "    pval = stats.ks_2samp(group_a,group_b).pvalue\n",
    "    ax.text( .04,.92, \"p-value: {0:.2e}\".format(pval), transform=ax.transAxes, fontsize=14 )\n",
    "\n",
    "    # draw histograms and collect info about them\n",
    "    # for each condition we have a list of bins and a list of freqs\n",
    "    hist_info_by_condition = {\n",
    "        condition:ax.hist(values, \n",
    "                           bins=n_bins, range=bin_range,\n",
    "                           alpha=.3, color=all_hist_colors[condition])[:2]\n",
    "        for condition,values in hist_values_by_condition.items()\n",
    "    }\n",
    "\n",
    "    # add arrows to histograms\n",
    "    ylim = ax.get_ylim()\n",
    "    dy = arrow_length * (ylim[1] - ylim[0])\n",
    "    for condition,(freqs,bins) in hist_info_by_condition.items():\n",
    "        hist_values = hist_values_by_condition[condition]\n",
    "        for genotype,color in all_arrow_colors.items():\n",
    "            x = hist_values[genotype]\n",
    "            try:\n",
    "                bin_index = next(i for i,b in enumerate(bins) if b>x)-1\n",
    "                y = freqs[bin_index]\n",
    "            except:\n",
    "                y = 0\n",
    "            ax.annotate(\"\", xy=(x,y), xytext=(x, y+dy), \n",
    "                         arrowprops=dict(arrowstyle=\"->\",color=color,linestyle=all_arrow_linestyles[condition]))\n",
    "\n",
    "\n",
    "\n",
    "    #hist_with_arrows(df['cold_DEPI_phi2'],arrow_style=\"--\",range =[0,0.6],color='blue',alpha=0.3,bins =bins,label=\"chilling\")\n",
    "    #hist_with_arrows(df['control_DEPI_phi2'],range =[0,0.6],color='orange',alpha=0.3,bins =bins,label=\"control\")\n",
    "    if xlabel is None:\n",
    "        xlabel = para\n",
    "    ax.set_xlabel(xlabel, fontsize=14)\n",
    "    ax.set_ylabel(\"Number of lines\", fontsize=14)\n",
    "    #plt.legend('cold_DEPI_phi2','control_DEPI_phi2')\n",
    "    #plt.savefig(\"phi2\",dpi=600)\n",
    "\n",
    "\n",
    "    # make a special legend\n",
    "    v = hist_values_by_condition\n",
    "    group_rows = {\n",
    "        condition:[\n",
    "            None,condition,\n",
    "            Rectangle((0,0),.1,.05,facecolor=color,alpha=.3),\n",
    "            np.mean(v[condition]),\n",
    "            np.std(v[condition])\n",
    "        ] \n",
    "        for condition,color in all_hist_colors.items()\n",
    "    }\n",
    "    arrow_rows = {\n",
    "        condition:[\n",
    "            None,condition,None,\n",
    "            Arrow(0,0,0,0,color=all_arrow_colors[\"CB27\"],linestyle=linestyle),\n",
    "            Arrow(0,0,0,0,color=all_arrow_colors[\"24-125B-1\"],linestyle=linestyle),\n",
    "        ]\n",
    "        for condition,linestyle in all_arrow_linestyles.items()\n",
    "    }\n",
    "    legend_x = [.1,.25,.4,.55,.7]\n",
    "    legend_y = [.8,.7,.6,.4,.3,.2]\n",
    "    legend_values = [\n",
    "        [\"Group\",None,None,\"Mean\",\"Std\"],\n",
    "        group_rows[\"control\"],\n",
    "        group_rows[\"chilling\"],\n",
    "        [\"Arrow\",None,None,\"CB27\",\"24-125B-1\"],\n",
    "        arrow_rows[\"control\"],\n",
    "        arrow_rows[\"chilling\"]\n",
    "    ]\n",
    "    legend_ax.axis(False)\n",
    "    for iy,y in enumerate(legend_y):\n",
    "        for ix,x in enumerate(legend_x):\n",
    "            val = legend_values[iy][ix]\n",
    "            if val is None:\n",
    "                continue\n",
    "            if isinstance(val,float):\n",
    "                if val < .01:\n",
    "                    f = \"{0:.0e}\"\n",
    "                elif val > 10:\n",
    "                    f = \"{0:.1f}\"\n",
    "                else:  \n",
    "                    f = \"{0:.3f}\"\n",
    "                val = f.format(val)\n",
    "            if isinstance(val,str):\n",
    "                legend_ax.text(x,y,val,fontsize=14)\n",
    "            if isinstance(val,Rectangle):\n",
    "                val.set_xy((x+.02,y-.01))\n",
    "                legend_ax.add_patch(val)\n",
    "            if isinstance(val,Arrow):\n",
    "                legend_ax.add_patch(\n",
    "                    FancyArrow(x+.05,y+.05,0,-.05,color=val.get_edgecolor(),linestyle=val.get_ls(),\n",
    "                               width=0,head_width=.01))\n",
    "\n",
    "    legend_ax.add_patch(Rectangle((.05,.1),.9,.4,fill=None,edgecolor=\"black\"))\n",
    "\n",
    "# draw a histogram with arrows on the current pyplot figure\n",
    "# this can be used the same way as plt.hist\n",
    "# hist_values must by a pandas series with genotype names in the index\n",
    "def hist_with_arrows( hist_values, arrow_style=\"-\", **kwargs ):\n",
    "    freqs,bins,_ = plt.hist(hist_values,**kwargs)\n",
    "    \n",
    "    ylim = plt.ylim()\n",
    "    dy = arrow_length * (ylim[1] - ylim[0])\n",
    "    \n",
    "    for genotype,color in all_arrow_colors.items():\n",
    "        x = hist_values[genotype]\n",
    "        try:\n",
    "            bin_index = next(i for i,b in enumerate(bins) if b>x)-1\n",
    "            y = freqs[bin_index]\n",
    "        except:\n",
    "            y = 0\n",
    "        plt.annotate(\"\", xy=(x,y), xytext=(x, y+dy), \n",
    "                     arrowprops=dict(arrowstyle=\"->\",color=color,linestyle=arrow_style))\n",
    "        \n",
    "    print( \"{0}\\n\\tmean: {1:.3f}\\n\\tstd: {2:.3f}\\n\".format( \n",
    "        hist_values.name, np.mean(hist_values), np.std(hist_values) ) )"
   ]
  },
  {
   "cell_type": "code",
   "execution_count": 5,
   "metadata": {},
   "outputs": [
    {
     "name": "stdout",
     "output_type": "stream",
     "text": [
      "MGDG\n",
      "\tmean: 32.214\n",
      "\tstd: 1.425\n",
      "\n"
     ]
    },
    {
     "data": {
      "image/png": "[encoded data removed]",
      "text/plain": [
       "<Figure size 432x288 with 1 Axes>"
      ]
     },
     "metadata": {
      "needs_background": "light"
     },
     "output_type": "display_data"
    }
   ],
   "source": [
    "#lipid \n",
    "plt.figure()\n",
    "bins = 15\n",
    "para = 'MGDG'\n",
    "hist_with_arrows(df[para],range =[25,40],color='blue',alpha=0.3,bins =bins)\n",
    "\n",
    "plt.xlabel(para, fontsize=14)\n",
    "plt.ylabel(\"Number of lines\", fontsize=14)\n",
    "\n",
    "plt.savefig(para,dpi=600)\n",
    "plt.show()"
   ]
  },
  {
   "cell_type": "code",
   "execution_count": 28,
   "metadata": {},
   "outputs": [
    {
     "name": "stdout",
     "output_type": "stream",
     "text": [
      "DGDG\n",
      "\tmean: 22.436\n",
      "\tstd: 1.376\n",
      "\n"
     ]
    },
    {
     "data": {
      "image/png": "[encoded data removed]",
      "text/plain": [
       "<Figure size 432x288 with 1 Axes>"
      ]
     },
     "metadata": {
      "needs_background": "light"
     },
     "output_type": "display_data"
    }
   ],
   "source": [
    "#lipid \n",
    "plt.figure()\n",
    "bins = 15\n",
    "para = 'DGDG'\n",
    "hist_with_arrows(df[para],range =[15,28],color='blue',alpha=0.3,bins =bins)\n",
    "\n",
    "plt.xlabel(para, fontsize=14)\n",
    "plt.ylabel(\"Number of lines\", fontsize=14)\n",
    "\n",
    "plt.savefig(para,dpi=600)\n",
    "plt.show()"
   ]
  },
  {
   "cell_type": "code",
   "execution_count": 29,
   "metadata": {},
   "outputs": [
    {
     "name": "stdout",
     "output_type": "stream",
     "text": [
      "SQDG\n",
      "\tmean: 5.269\n",
      "\tstd: 0.483\n",
      "\n"
     ]
    },
    {
     "data": {
      "image/png": "[encoded data removed]",
      "text/plain": [
       "<Figure size 432x288 with 1 Axes>"
      ]
     },
     "metadata": {
      "needs_background": "light"
     },
     "output_type": "display_data"
    }
   ],
   "source": [
    "#lipid \n",
    "plt.figure()\n",
    "bins = 15\n",
    "para = 'SQDG'\n",
    "hist_with_arrows(df[para],range =[3,8],color='blue',alpha=0.3,bins =bins)\n",
    "\n",
    "plt.xlabel(para, fontsize=14)\n",
    "plt.ylabel(\"Number of lines\", fontsize=14)\n",
    "\n",
    "plt.savefig(para,dpi=600)\n",
    "plt.show()"
   ]
  },
  {
   "cell_type": "code",
   "execution_count": 30,
   "metadata": {},
   "outputs": [
    {
     "name": "stdout",
     "output_type": "stream",
     "text": [
      "PG\n",
      "\tmean: 11.519\n",
      "\tstd: 0.831\n",
      "\n"
     ]
    },
    {
     "data": {
      "image/png": "[encoded data removed]",
      "text/plain": [
       "<Figure size 432x288 with 1 Axes>"
      ]
     },
     "metadata": {
      "needs_background": "light"
     },
     "output_type": "display_data"
    }
   ],
   "source": [
    "#lipid \n",
    "plt.figure()\n",
    "bins = 15\n",
    "para = 'PG'\n",
    "hist_with_arrows(df[para],range =[7.5,16],color='blue',alpha=0.3,bins =bins)\n",
    "\n",
    "plt.xlabel(para, fontsize=14)\n",
    "plt.ylabel(\"Number of lines\", fontsize=14)\n",
    "\n",
    "plt.savefig(para,dpi=600)\n",
    "plt.show()"
   ]
  },
  {
   "cell_type": "code",
   "execution_count": 31,
   "metadata": {},
   "outputs": [
    {
     "name": "stdout",
     "output_type": "stream",
     "text": [
      "PIPE\n",
      "\tmean: 11.134\n",
      "\tstd: 1.122\n",
      "\n"
     ]
    },
    {
     "data": {
      "image/png": "[encoded data removed]",
      "text/plain": [
       "<Figure size 432x288 with 1 Axes>"
      ]
     },
     "metadata": {
      "needs_background": "light"
     },
     "output_type": "display_data"
    }
   ],
   "source": [
    "#lipid \n",
    "plt.figure()\n",
    "bins = 15\n",
    "para = 'PIPE'\n",
    "hist_with_arrows(df[para],range =[6,17],color='blue',alpha=0.3,bins =bins)\n",
    "\n",
    "plt.xlabel(\"PEPI\", fontsize=14)\n",
    "plt.ylabel(\"Number of lines\", fontsize=14)\n",
    "\n",
    "plt.savefig(para,dpi=600)\n",
    "\n",
    "plt.show()\n"
   ]
  },
  {
   "cell_type": "code",
   "execution_count": 32,
   "metadata": {},
   "outputs": [
    {
     "name": "stdout",
     "output_type": "stream",
     "text": [
      "PC\n",
      "\tmean: 16.648\n",
      "\tstd: 1.081\n",
      "\n"
     ]
    },
    {
     "data": {
      "image/png": "[encoded data removed]",
      "text/plain": [
       "<Figure size 432x288 with 1 Axes>"
      ]
     },
     "metadata": {
      "needs_background": "light"
     },
     "output_type": "display_data"
    }
   ],
   "source": [
    "#lipid \n",
    "plt.figure()\n",
    "bins = 15\n",
    "para = 'PC'\n",
    "hist_with_arrows(df[para],range =[10,24],color='blue',alpha=0.3,bins =bins)\n",
    "\n",
    "plt.xlabel(para, fontsize=14)\n",
    "plt.ylabel(\"Number of lines\", fontsize=14)\n",
    "\n",
    "plt.savefig(para,dpi=600)\n",
    "plt.show()"
   ]
  },
  {
   "cell_type": "code",
   "execution_count": 10,
   "metadata": {},
   "outputs": [
    {
     "name": "stdout",
     "output_type": "stream",
     "text": [
      "DGDG/MGDG\n",
      "\tmean: 0.698\n",
      "\tstd: 0.052\n",
      "\n"
     ]
    },
    {
     "data": {
      "image/png": "[encoded data removed]",
      "text/plain": [
       "<Figure size 432x288 with 1 Axes>"
      ]
     },
     "metadata": {
      "needs_background": "light"
     },
     "output_type": "display_data"
    }
   ],
   "source": [
    "#lipid \n",
    "plt.figure()\n",
    "bins = 15\n",
    "para = 'DGDG/MGDG'\n",
    "hist_with_arrows(df[para],range =[0.4,1],color='blue',alpha=0.3,bins =bins)\n",
    "\n",
    "plt.xlabel(para, fontsize=14)\n",
    "plt.ylabel(\"Number of lines\", fontsize=14)\n",
    "\n",
    "plt.savefig('ratio',dpi=600)\n",
    "plt.show()"
   ]
  },
  {
   "cell_type": "code",
   "execution_count": 33,
   "metadata": {},
   "outputs": [
    {
     "name": "stdout",
     "output_type": "stream",
     "text": [
      "PG_16_0\n",
      "\tmean: 30.555\n",
      "\tstd: 1.756\n",
      "\n"
     ]
    },
    {
     "data": {
      "image/png": "[encoded data removed]",
      "text/plain": [
       "<Figure size 432x288 with 1 Axes>"
      ]
     },
     "metadata": {
      "needs_background": "light"
     },
     "output_type": "display_data"
    }
   ],
   "source": [
    "#fatty acid\n",
    "plt.figure()\n",
    "bins = 15\n",
    "para = 'PG_16_0'\n",
    "hist_with_arrows(df[para],range =[22,38],color='blue',alpha=0.3,bins =bins)\n",
    "\n",
    "plt.xlabel('PG 16:0', fontsize=14)\n",
    "plt.ylabel(\"Number of lines\", fontsize=14)\n",
    "\n",
    "plt.savefig(para,dpi=600)\n",
    "plt.show()"
   ]
  },
  {
   "cell_type": "code",
   "execution_count": 34,
   "metadata": {},
   "outputs": [
    {
     "name": "stdout",
     "output_type": "stream",
     "text": [
      "PG_16_1\n",
      "\tmean: 32.909\n",
      "\tstd: 1.998\n",
      "\n"
     ]
    },
    {
     "data": {
      "image/png": "[encoded data removed]",
      "text/plain": [
       "<Figure size 432x288 with 1 Axes>"
      ]
     },
     "metadata": {
      "needs_background": "light"
     },
     "output_type": "display_data"
    }
   ],
   "source": [
    "#fatty acid\n",
    "plt.figure()\n",
    "bins = 15\n",
    "para = 'PG_16_1'\n",
    "hist_with_arrows(df[para],range =[22,47],color='blue',alpha=0.3,bins =bins)\n",
    "\n",
    "plt.xlabel('PG 16:1t', fontsize=14)\n",
    "plt.ylabel(\"Number of lines\", fontsize=14)\n",
    "\n",
    "plt.savefig(para,dpi=600)\n",
    "plt.show()"
   ]
  },
  {
   "cell_type": "code",
   "execution_count": 35,
   "metadata": {},
   "outputs": [
    {
     "name": "stdout",
     "output_type": "stream",
     "text": [
      "PEPI_18_1\n",
      "\tmean: 2.518\n",
      "\tstd: 0.450\n",
      "\n"
     ]
    },
    {
     "data": {
      "image/png": "[encoded data removed]",
      "text/plain": [
       "<Figure size 432x288 with 1 Axes>"
      ]
     },
     "metadata": {
      "needs_background": "light"
     },
     "output_type": "display_data"
    }
   ],
   "source": [
    "#fatty acid\n",
    "plt.figure()\n",
    "bins = 15\n",
    "para = 'PEPI_18_1'\n",
    "hist_with_arrows(df[para],range =[0,5],color='blue',alpha=0.3,bins =bins)\n",
    "\n",
    "plt.xlabel('PEPI 18:1', fontsize=14)\n",
    "plt.ylabel(\"Number of lines\", fontsize=14)\n",
    "\n",
    "plt.savefig(para,dpi=600)\n",
    "plt.show()"
   ]
  },
  {
   "cell_type": "code",
   "execution_count": 36,
   "metadata": {},
   "outputs": [
    {
     "name": "stdout",
     "output_type": "stream",
     "text": [
      "MGDG_16_0\n",
      "\tmean: 1.504\n",
      "\tstd: 0.257\n",
      "\n"
     ]
    },
    {
     "data": {
      "image/png": "[encoded data removed]",
      "text/plain": [
       "<Figure size 432x288 with 1 Axes>"
      ]
     },
     "metadata": {
      "needs_background": "light"
     },
     "output_type": "display_data"
    }
   ],
   "source": [
    "#fatty acid\n",
    "plt.figure()\n",
    "bins = 15\n",
    "para = 'MGDG_16_0'\n",
    "hist_with_arrows(df[para],range =[0,4],color='blue',alpha=0.3,bins =bins)\n",
    "\n",
    "plt.xlabel('MGDG 16:0', fontsize=14)\n",
    "plt.ylabel(\"Number of lines\", fontsize=14)\n",
    "\n",
    "plt.savefig(para,dpi=600)\n",
    "plt.show()"
   ]
  },
  {
   "cell_type": "code",
   "execution_count": 37,
   "metadata": {},
   "outputs": [
    {
     "name": "stdout",
     "output_type": "stream",
     "text": [
      "MGDG_18_2\n",
      "\tmean: 2.653\n",
      "\tstd: 0.406\n",
      "\n"
     ]
    },
    {
     "data": {
      "image/png": "[encoded data removed]",
      "text/plain": [
       "<Figure size 432x288 with 1 Axes>"
      ]
     },
     "metadata": {
      "needs_background": "light"
     },
     "output_type": "display_data"
    }
   ],
   "source": [
    "#fatty acid\n",
    "plt.figure()\n",
    "bins = 15\n",
    "para = 'MGDG_18_2'\n",
    "hist_with_arrows(df[para],range =[1,4.5],color='blue',alpha=0.3,bins =bins)\n",
    "\n",
    "plt.xlabel('MGDG 18:2', fontsize=14)\n",
    "plt.ylabel(\"Number of lines\", fontsize=14)\n",
    "\n",
    "plt.savefig(para,dpi=600)\n",
    "plt.show()"
   ]
  },
  {
   "cell_type": "code",
   "execution_count": 38,
   "metadata": {},
   "outputs": [
    {
     "name": "stdout",
     "output_type": "stream",
     "text": [
      "MGDG_18_3\n",
      "\tmean: 95.122\n",
      "\tstd: 0.589\n",
      "\n"
     ]
    },
    {
     "data": {
      "image/png": "[encoded data removed]",
      "text/plain": [
       "<Figure size 432x288 with 1 Axes>"
      ]
     },
     "metadata": {
      "needs_background": "light"
     },
     "output_type": "display_data"
    }
   ],
   "source": [
    "#fatty acid\n",
    "plt.figure()\n",
    "bins = 15\n",
    "para = 'MGDG_18_3'\n",
    "hist_with_arrows(df[para],range =[92,98],color='blue',alpha=0.3,bins =bins)\n",
    "\n",
    "plt.xlabel('MGDG 18:3', fontsize=14)\n",
    "plt.ylabel(\"Number of lines\", fontsize=14)\n",
    "\n",
    "plt.savefig(para,dpi=600)\n",
    "plt.show()"
   ]
  },
  {
   "cell_type": "code",
   "execution_count": 39,
   "metadata": {},
   "outputs": [
    {
     "name": "stdout",
     "output_type": "stream",
     "text": [
      "DGDG_16_0\n",
      "\tmean: 8.096\n",
      "\tstd: 0.886\n",
      "\n"
     ]
    },
    {
     "data": {
      "image/png": "[encoded data removed]",
      "text/plain": [
       "<Figure size 432x288 with 1 Axes>"
      ]
     },
     "metadata": {
      "needs_background": "light"
     },
     "output_type": "display_data"
    }
   ],
   "source": [
    "#fatty acid\n",
    "plt.figure()\n",
    "bins = 15\n",
    "para = 'DGDG_16_0'\n",
    "hist_with_arrows(df[para],range =[2.5,16],color='blue',alpha=0.3,bins =bins)\n",
    "\n",
    "plt.xlabel('DGDG 16:0', fontsize=14)\n",
    "plt.ylabel(\"Number of lines\", fontsize=14)\n",
    "\n",
    "plt.savefig(para,dpi=600)\n",
    "plt.show()"
   ]
  },
  {
   "cell_type": "code",
   "execution_count": 40,
   "metadata": {},
   "outputs": [
    {
     "name": "stdout",
     "output_type": "stream",
     "text": [
      "DGDG_18_2\n",
      "\tmean: 0.795\n",
      "\tstd: 0.158\n",
      "\n"
     ]
    },
    {
     "data": {
      "image/png": "[encoded data removed]",
      "text/plain": [
       "<Figure size 432x288 with 1 Axes>"
      ]
     },
     "metadata": {
      "needs_background": "light"
     },
     "output_type": "display_data"
    }
   ],
   "source": [
    "#fatty acid\n",
    "plt.figure()\n",
    "bins = 15\n",
    "para = 'DGDG_18_2'\n",
    "hist_with_arrows(df[para],range =[0,1.7],color='blue',alpha=0.3,bins =bins)\n",
    "\n",
    "plt.xlabel('DGDG 18:2', fontsize=14)\n",
    "plt.ylabel(\"Number of lines\", fontsize=14)\n",
    "\n",
    "plt.savefig(para,dpi=600)\n",
    "plt.show()"
   ]
  },
  {
   "cell_type": "code",
   "execution_count": 41,
   "metadata": {},
   "outputs": [
    {
     "name": "stdout",
     "output_type": "stream",
     "text": [
      "DGDG_18_3\n",
      "\tmean: 89.868\n",
      "\tstd: 1.149\n",
      "\n"
     ]
    },
    {
     "data": {
      "image/png": "[encoded data removed]",
      "text/plain": [
       "<Figure size 432x288 with 1 Axes>"
      ]
     },
     "metadata": {
      "needs_background": "light"
     },
     "output_type": "display_data"
    }
   ],
   "source": [
    "#fatty acid\n",
    "plt.figure()\n",
    "bins = 15\n",
    "para = 'DGDG_18_3'\n",
    "hist_with_arrows(df[para],range =[80,100],color='blue',alpha=0.3,bins =bins)\n",
    "\n",
    "plt.xlabel('DGDG 18:3', fontsize=14)\n",
    "plt.ylabel(\"Number of lines\", fontsize=14)\n",
    "\n",
    "plt.savefig(para,dpi=600)\n",
    "plt.show()"
   ]
  },
  {
   "cell_type": "code",
   "execution_count": 42,
   "metadata": {},
   "outputs": [
    {
     "name": "stdout",
     "output_type": "stream",
     "text": [
      "PG_18_2\n",
      "\tmean: 3.367\n",
      "\tstd: 0.374\n",
      "\n"
     ]
    },
    {
     "data": {
      "image/png": "[encoded data removed]",
      "text/plain": [
       "<Figure size 432x288 with 1 Axes>"
      ]
     },
     "metadata": {
      "needs_background": "light"
     },
     "output_type": "display_data"
    }
   ],
   "source": [
    "#fatty acid\n",
    "plt.figure()\n",
    "bins = 15\n",
    "para = 'PG_18_2'\n",
    "hist_with_arrows(df[para],range =[0,7],color='blue',alpha=0.3,bins =bins)\n",
    "\n",
    "plt.xlabel('PG 18:2', fontsize=14)\n",
    "plt.ylabel(\"Number of lines\", fontsize=14)\n",
    "\n",
    "plt.savefig(para,dpi=600)\n",
    "plt.show()"
   ]
  },
  {
   "cell_type": "code",
   "execution_count": 43,
   "metadata": {},
   "outputs": [
    {
     "name": "stdout",
     "output_type": "stream",
     "text": [
      "PG_18_0\n",
      "\tmean: 2.444\n",
      "\tstd: 0.244\n",
      "\n"
     ]
    },
    {
     "data": {
      "image/png": "[encoded data removed]",
      "text/plain": [
       "<Figure size 432x288 with 1 Axes>"
      ]
     },
     "metadata": {
      "needs_background": "light"
     },
     "output_type": "display_data"
    }
   ],
   "source": [
    "#fatty acid\n",
    "plt.figure()\n",
    "bins = 15\n",
    "para = 'PG_18_0'\n",
    "hist_with_arrows(df[para],range =[1.2,3.8],color='blue',alpha=0.3,bins =bins)\n",
    "\n",
    "plt.xlabel('PG 18:0', fontsize=14)\n",
    "plt.ylabel(\"Number of lines\", fontsize=14)\n",
    "\n",
    "plt.savefig(para,dpi=600)\n",
    "plt.show()"
   ]
  },
  {
   "cell_type": "code",
   "execution_count": 44,
   "metadata": {},
   "outputs": [
    {
     "name": "stdout",
     "output_type": "stream",
     "text": [
      "PG_18_3\n",
      "\tmean: 28.766\n",
      "\tstd: 2.804\n",
      "\n"
     ]
    },
    {
     "data": {
      "image/png": "[encoded data removed]",
      "text/plain": [
       "<Figure size 432x288 with 1 Axes>"
      ]
     },
     "metadata": {
      "needs_background": "light"
     },
     "output_type": "display_data"
    }
   ],
   "source": [
    "#fatty acid\n",
    "plt.figure()\n",
    "bins = 15\n",
    "para = 'PG_18_3'\n",
    "hist_with_arrows(df[para],range =[10,50],color='blue',alpha=0.3,bins =bins)\n",
    "\n",
    "plt.xlabel('PG 18:3', fontsize=14)\n",
    "plt.ylabel(\"Number of lines\", fontsize=14)\n",
    "\n",
    "plt.savefig(para,dpi=600)\n",
    "plt.show()"
   ]
  },
  {
   "cell_type": "code",
   "execution_count": 45,
   "metadata": {},
   "outputs": [
    {
     "name": "stdout",
     "output_type": "stream",
     "text": [
      "PC_16_0\n",
      "\tmean: 19.484\n",
      "\tstd: 1.386\n",
      "\n"
     ]
    },
    {
     "data": {
      "image/png": "[encoded data removed]",
      "text/plain": [
       "<Figure size 432x288 with 1 Axes>"
      ]
     },
     "metadata": {
      "needs_background": "light"
     },
     "output_type": "display_data"
    }
   ],
   "source": [
    "#fatty acid\n",
    "plt.figure()\n",
    "bins = 15\n",
    "para = 'PC_16_0'\n",
    "hist_with_arrows(df[para],range =[12,28],color='blue',alpha=0.3,bins =bins)\n",
    "\n",
    "plt.xlabel('PC 16:0', fontsize=14)\n",
    "plt.ylabel(\"Number of lines\", fontsize=14)\n",
    "\n",
    "plt.savefig(para,dpi=600)\n",
    "plt.show()"
   ]
  },
  {
   "cell_type": "code",
   "execution_count": 60,
   "metadata": {},
   "outputs": [
    {
     "name": "stdout",
     "output_type": "stream",
     "text": [
      "PC_18_1\n",
      "\tmean: 4.117\n",
      "\tstd: 1.772\n",
      "\n"
     ]
    },
    {
     "data": {
      "image/png": "[encoded data removed]",
      "text/plain": [
       "<Figure size 432x288 with 1 Axes>"
      ]
     },
     "metadata": {
      "needs_background": "light"
     },
     "output_type": "display_data"
    }
   ],
   "source": [
    "#fatty acid\n",
    "plt.figure()\n",
    "bins = 15\n",
    "para = 'PC_18_1'\n",
    "hist_with_arrows(df[para],range =[0,10],color='blue',alpha=0.3,bins =bins)\n",
    "\n",
    "plt.xlabel('PC 18:1', fontsize=14)\n",
    "plt.ylabel(\"Number of lines\", fontsize=14)\n",
    "\n",
    "plt.savefig(para,dpi=600)\n",
    "plt.show()"
   ]
  },
  {
   "cell_type": "code",
   "execution_count": 47,
   "metadata": {},
   "outputs": [
    {
     "name": "stdout",
     "output_type": "stream",
     "text": [
      "PC_18_2\n",
      "\tmean: 39.426\n",
      "\tstd: 1.844\n",
      "\n"
     ]
    },
    {
     "data": {
      "image/png": "[encoded data removed]",
      "text/plain": [
       "<Figure size 432x288 with 1 Axes>"
      ]
     },
     "metadata": {
      "needs_background": "light"
     },
     "output_type": "display_data"
    }
   ],
   "source": [
    "#fatty acid\n",
    "plt.figure()\n",
    "bins = 15\n",
    "para = 'PC_18_2'\n",
    "hist_with_arrows(df[para],range =[25,55],color='blue',alpha=0.3,bins =bins)\n",
    "\n",
    "plt.xlabel('PC 18:2', fontsize=14)\n",
    "plt.ylabel(\"Number of lines\", fontsize=14)\n",
    "\n",
    "plt.savefig(para,dpi=600)\n",
    "plt.show()"
   ]
  },
  {
   "cell_type": "code",
   "execution_count": 48,
   "metadata": {},
   "outputs": [
    {
     "name": "stdout",
     "output_type": "stream",
     "text": [
      "PC_18_3\n",
      "\tmean: 33.893\n",
      "\tstd: 1.812\n",
      "\n"
     ]
    },
    {
     "data": {
      "image/png": "[encoded data removed]",
      "text/plain": [
       "<Figure size 432x288 with 1 Axes>"
      ]
     },
     "metadata": {
      "needs_background": "light"
     },
     "output_type": "display_data"
    }
   ],
   "source": [
    "#fatty acid\n",
    "plt.figure()\n",
    "bins = 15\n",
    "para = 'PC_18_3'\n",
    "hist_with_arrows(df[para],range =[23,46],color='blue',alpha=0.3,bins =bins)\n",
    "\n",
    "plt.xlabel('PC 18:3', fontsize=14)\n",
    "plt.ylabel(\"Number of lines\", fontsize=14)\n",
    "\n",
    "plt.savefig(para,dpi=600)\n",
    "plt.show()"
   ]
  },
  {
   "cell_type": "code",
   "execution_count": 49,
   "metadata": {},
   "outputs": [
    {
     "name": "stdout",
     "output_type": "stream",
     "text": [
      "PEPI_16_0\n",
      "\tmean: 30.996\n",
      "\tstd: 1.486\n",
      "\n"
     ]
    },
    {
     "data": {
      "image/png": "[encoded data removed]",
      "text/plain": [
       "<Figure size 432x288 with 1 Axes>"
      ]
     },
     "metadata": {
      "needs_background": "light"
     },
     "output_type": "display_data"
    }
   ],
   "source": [
    "#fatty acid\n",
    "plt.figure()\n",
    "bins = 15\n",
    "para = 'PEPI_16_0'\n",
    "hist_with_arrows(df[para],range =[20,40],color='blue',alpha=0.3,bins =bins)\n",
    "\n",
    "plt.xlabel('PEPI 16:0', fontsize=14)\n",
    "plt.ylabel(\"Number of lines\", fontsize=14)\n",
    "\n",
    "plt.savefig(para,dpi=600)\n",
    "plt.show()"
   ]
  },
  {
   "cell_type": "code",
   "execution_count": 50,
   "metadata": {},
   "outputs": [
    {
     "name": "stdout",
     "output_type": "stream",
     "text": [
      "PEPI_18_1\n",
      "\tmean: 2.518\n",
      "\tstd: 0.450\n",
      "\n"
     ]
    },
    {
     "data": {
      "image/png": "[encoded data removed]",
      "text/plain": [
       "<Figure size 432x288 with 1 Axes>"
      ]
     },
     "metadata": {
      "needs_background": "light"
     },
     "output_type": "display_data"
    }
   ],
   "source": [
    "#fatty acid\n",
    "plt.figure()\n",
    "bins = 15\n",
    "para = 'PEPI_18_1'\n",
    "hist_with_arrows(df[para],range =[0,5],color='blue',alpha=0.3,bins =bins)\n",
    "\n",
    "plt.xlabel('PEPI 18:1', fontsize=14)\n",
    "plt.ylabel(\"Number of lines\", fontsize=14)\n",
    "\n",
    "plt.savefig(para,dpi=600)\n",
    "plt.show()"
   ]
  },
  {
   "cell_type": "code",
   "execution_count": 51,
   "metadata": {},
   "outputs": [
    {
     "name": "stdout",
     "output_type": "stream",
     "text": [
      "PEPI_18_2\n",
      "\tmean: 33.393\n",
      "\tstd: 1.367\n",
      "\n"
     ]
    },
    {
     "data": {
      "image/png": "[encoded data removed]",
      "text/plain": [
       "<Figure size 432x288 with 1 Axes>"
      ]
     },
     "metadata": {
      "needs_background": "light"
     },
     "output_type": "display_data"
    }
   ],
   "source": [
    "#fatty acid\n",
    "plt.figure()\n",
    "bins = 15\n",
    "para = 'PEPI_18_2'\n",
    "hist_with_arrows(df[para],range =[25,40],color='blue',alpha=0.3,bins =bins)\n",
    "\n",
    "plt.xlabel('PEPI 18:2', fontsize=14)\n",
    "plt.ylabel(\"Number of lines\", fontsize=14)\n",
    "\n",
    "plt.savefig(para,dpi=600)\n",
    "plt.show()"
   ]
  },
  {
   "cell_type": "code",
   "execution_count": 52,
   "metadata": {},
   "outputs": [
    {
     "name": "stdout",
     "output_type": "stream",
     "text": [
      "PEPI_18_3\n",
      "\tmean: 30.784\n",
      "\tstd: 1.704\n",
      "\n"
     ]
    },
    {
     "data": {
      "image/png": "[encoded data removed]",
      "text/plain": [
       "<Figure size 432x288 with 1 Axes>"
      ]
     },
     "metadata": {
      "needs_background": "light"
     },
     "output_type": "display_data"
    }
   ],
   "source": [
    "#fatty acid\n",
    "plt.figure()\n",
    "bins = 15\n",
    "para = 'PEPI_18_3'\n",
    "hist_with_arrows(df[para],range =[20,44],color='blue',alpha=0.3,bins =bins)\n",
    "\n",
    "plt.xlabel('PEPI 18:3', fontsize=14)\n",
    "plt.ylabel(\"Number of lines\", fontsize=14)\n",
    "\n",
    "plt.savefig(para,dpi=600)\n",
    "plt.show()"
   ]
  },
  {
   "cell_type": "code",
   "execution_count": 53,
   "metadata": {},
   "outputs": [
    {
     "name": "stdout",
     "output_type": "stream",
     "text": [
      "SQDG_16_0\n",
      "\tmean: 34.145\n",
      "\tstd: 1.917\n",
      "\n"
     ]
    },
    {
     "data": {
      "image/png": "[encoded data removed]",
      "text/plain": [
       "<Figure size 432x288 with 1 Axes>"
      ]
     },
     "metadata": {
      "needs_background": "light"
     },
     "output_type": "display_data"
    }
   ],
   "source": [
    "#fatty acid\n",
    "plt.figure()\n",
    "bins = 15\n",
    "para = 'SQDG_16_0'\n",
    "hist_with_arrows(df[para],range =[20,50],color='blue',alpha=0.3,bins =bins)\n",
    "\n",
    "plt.xlabel('SQDG 16:0', fontsize=14)\n",
    "plt.ylabel(\"Number of lines\", fontsize=14)\n",
    "\n",
    "plt.savefig(para,dpi=600)\n",
    "plt.show()"
   ]
  },
  {
   "cell_type": "code",
   "execution_count": 54,
   "metadata": {},
   "outputs": [
    {
     "name": "stdout",
     "output_type": "stream",
     "text": [
      "SQDG_18_0\n",
      "\tmean: 3.148\n",
      "\tstd: 0.407\n",
      "\n"
     ]
    },
    {
     "data": {
      "image/png": "[encoded data removed]",
      "text/plain": [
       "<Figure size 432x288 with 1 Axes>"
      ]
     },
     "metadata": {
      "needs_background": "light"
     },
     "output_type": "display_data"
    }
   ],
   "source": [
    "#fatty acid\n",
    "plt.figure()\n",
    "bins = 15\n",
    "para = 'SQDG_18_0'\n",
    "hist_with_arrows(df[para],range =[0,7],color='blue',alpha=0.3,bins =bins)\n",
    "\n",
    "plt.xlabel('SQDG 18:0', fontsize=14)\n",
    "plt.ylabel(\"Number of lines\", fontsize=14)\n",
    "\n",
    "plt.savefig(para,dpi=600)\n",
    "plt.show()"
   ]
  },
  {
   "cell_type": "code",
   "execution_count": 55,
   "metadata": {},
   "outputs": [
    {
     "name": "stdout",
     "output_type": "stream",
     "text": [
      "SQDG_18_1\n",
      "\tmean: 1.775\n",
      "\tstd: 0.405\n",
      "\n"
     ]
    },
    {
     "data": {
      "image/png": "[encoded data removed]",
      "text/plain": [
       "<Figure size 432x288 with 1 Axes>"
      ]
     },
     "metadata": {
      "needs_background": "light"
     },
     "output_type": "display_data"
    }
   ],
   "source": [
    "#fatty acid\n",
    "plt.figure()\n",
    "bins = 15\n",
    "para = 'SQDG_18_1'\n",
    "hist_with_arrows(df[para],range =[0,5],color='blue',alpha=0.3,bins =bins)\n",
    "\n",
    "plt.xlabel('SQDG 18:1', fontsize=14)\n",
    "plt.ylabel(\"Number of lines\", fontsize=14)\n",
    "\n",
    "plt.savefig(para,dpi=600)\n",
    "plt.show()"
   ]
  },
  {
   "cell_type": "code",
   "execution_count": 56,
   "metadata": {},
   "outputs": [
    {
     "name": "stdout",
     "output_type": "stream",
     "text": [
      "SQDG_18_2\n",
      "\tmean: 7.028\n",
      "\tstd: 1.416\n",
      "\n"
     ]
    },
    {
     "data": {
      "image/png": "[encoded data removed]",
      "text/plain": [
       "<Figure size 432x288 with 1 Axes>"
      ]
     },
     "metadata": {
      "needs_background": "light"
     },
     "output_type": "display_data"
    }
   ],
   "source": [
    "#fatty acid\n",
    "plt.figure()\n",
    "bins = 15\n",
    "para = 'SQDG_18_2'\n",
    "hist_with_arrows(df[para],range =[0,17],color='blue',alpha=0.3,bins =bins)\n",
    "\n",
    "plt.xlabel('SQDG 18:2', fontsize=14)\n",
    "plt.ylabel(\"Number of lines\", fontsize=14)\n",
    "\n",
    "plt.savefig(para,dpi=600)\n",
    "plt.show()"
   ]
  },
  {
   "cell_type": "code",
   "execution_count": 57,
   "metadata": {},
   "outputs": [
    {
     "name": "stdout",
     "output_type": "stream",
     "text": [
      "SQDG_18_3\n",
      "\tmean: 49.508\n",
      "\tstd: 4.546\n",
      "\n"
     ]
    },
    {
     "data": {
      "image/png": "[encoded data removed]",
      "text/plain": [
       "<Figure size 432x288 with 1 Axes>"
      ]
     },
     "metadata": {
      "needs_background": "light"
     },
     "output_type": "display_data"
    }
   ],
   "source": [
    "#fatty acid\n",
    "plt.figure()\n",
    "bins = 15\n",
    "para = 'SQDG_18_3'\n",
    "hist_with_arrows(df[para],range =[20,80],color='blue',alpha=0.3,bins =bins)\n",
    "\n",
    "plt.xlabel('SQDG 18:3', fontsize=14)\n",
    "plt.ylabel(\"Number of lines\", fontsize=14)\n",
    "\n",
    "plt.savefig(para,dpi=600)\n",
    "plt.show()"
   ]
  },
  {
   "cell_type": "code",
   "execution_count": null,
   "metadata": {},
   "outputs": [],
   "source": []
  }
 ],
 "metadata": {
  "kernelspec": {
   "display_name": "Python 3",
   "language": "python",
   "name": "python3"
  },
  "language_info": {
   "codemirror_mode": {
    "name": "ipython",
    "version": 3
   },
   "file_extension": ".py",
   "mimetype": "text/x-python",
   "name": "python",
   "nbconvert_exporter": "python",
   "pygments_lexer": "ipython3",
   "version": "3.8.5"
  }
 },
 "nbformat": 4,
 "nbformat_minor": 4
}
